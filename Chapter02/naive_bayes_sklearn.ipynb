{
 "cells": [
  {
   "cell_type": "code",
   "execution_count": 1,
   "metadata": {},
   "outputs": [],
   "source": [
    "from sklearn.naive_bayes import MultinomialNB\n",
    "from sklearn.preprocessing import LabelEncoder\n",
    "import pandas as pd\n"
   ]
  },
  {
   "cell_type": "code",
   "execution_count": 2,
   "metadata": {},
   "outputs": [],
   "source": [
    "def predict_play_probability(temperature, wind, sunshine):\n",
    "    # Vstupní data\n",
    "    data = [\n",
    "        [\"Cold\", \"Strong\", \"Cloudy\", \"No\"],\n",
    "        [\"Warm\", \"Strong\", \"Cloudy\", \"No\"],\n",
    "        [\"Warm\", \"None\", \"Sunny\", \"Yes\"],\n",
    "        [\"Hot\", \"None\", \"Sunny\", \"No\"],\n",
    "        [\"Hot\", \"Breeze\", \"Cloudy\", \"Yes\"],\n",
    "        [\"Warm\", \"Breeze\", \"Sunny\", \"Yes\"],\n",
    "        [\"Cold\", \"Breeze\", \"Cloudy\", \"No\"],\n",
    "        [\"Cold\", \"None\", \"Sunny\", \"Yes\"],\n",
    "        [\"Hot\", \"Strong\", \"Cloudy\", \"Yes\"],\n",
    "        [\"Warm\", \"None\", \"Cloudy\", \"Yes\"]\n",
    "    ]\n",
    "\n",
    "    # Vytvoření DataFrame\n",
    "    df = pd.DataFrame(data, columns=[\"Temperature\", \"Wind\", \"Sunshine\", \"Play\"])\n",
    "\n",
    "    # Převod textových hodnot na čísla\n",
    "    label_encoders = {}\n",
    "    for column in df.columns:\n",
    "        le = LabelEncoder()\n",
    "        df[column] = le.fit_transform(df[column])\n",
    "        label_encoders[column] = le\n",
    "\n",
    "    # Rozdělení dat na vstupy (X) a výstup (y)\n",
    "    X = df.drop(\"Play\", axis=1)\n",
    "    y = df[\"Play\"]\n",
    "\n",
    "    # Trénování Naive Bayes modelu\n",
    "    model = MultinomialNB()\n",
    "    model.fit(X, y)\n",
    "\n",
    "    # Převod vstupních podmínek na čísla pomocí LabelEncoderů\n",
    "    temperature_encoded = label_encoders[\"Temperature\"].transform([temperature])[0]\n",
    "    wind_encoded = label_encoders[\"Wind\"].transform([wind])[0]\n",
    "    sunshine_encoded = label_encoders[\"Sunshine\"].transform([sunshine])[0]\n",
    "\n",
    "    input_data = [[temperature_encoded, wind_encoded, sunshine_encoded]]\n",
    "\n",
    "    # Předpověď pravděpodobnosti\n",
    "    play_probability = model.predict_proba(input_data)[:, 1]  # Pravděpodobnost hraní venku (Yes)\n",
    "\n",
    "    return play_probability[0]"
   ]
  },
  {
   "cell_type": "code",
   "execution_count": 3,
   "metadata": {},
   "outputs": [
    {
     "name": "stdout",
     "output_type": "stream",
     "text": [
      "Predicted probability of playing outside: 0.60\n"
     ]
    },
    {
     "name": "stderr",
     "output_type": "stream",
     "text": [
      "c:\\Users\\panak\\.conda\\envs\\VSCodeJupyter\\Lib\\site-packages\\sklearn\\utils\\validation.py:605: FutureWarning: is_sparse is deprecated and will be removed in a future version. Check `isinstance(dtype, pd.SparseDtype)` instead.\n",
      "  if is_sparse(pd_dtype):\n",
      "c:\\Users\\panak\\.conda\\envs\\VSCodeJupyter\\Lib\\site-packages\\sklearn\\utils\\validation.py:614: FutureWarning: is_sparse is deprecated and will be removed in a future version. Check `isinstance(dtype, pd.SparseDtype)` instead.\n",
      "  if is_sparse(pd_dtype) or not is_extension_array_dtype(pd_dtype):\n",
      "c:\\Users\\panak\\.conda\\envs\\VSCodeJupyter\\Lib\\site-packages\\sklearn\\utils\\validation.py:605: FutureWarning: is_sparse is deprecated and will be removed in a future version. Check `isinstance(dtype, pd.SparseDtype)` instead.\n",
      "  if is_sparse(pd_dtype):\n",
      "c:\\Users\\panak\\.conda\\envs\\VSCodeJupyter\\Lib\\site-packages\\sklearn\\utils\\validation.py:614: FutureWarning: is_sparse is deprecated and will be removed in a future version. Check `isinstance(dtype, pd.SparseDtype)` instead.\n",
      "  if is_sparse(pd_dtype) or not is_extension_array_dtype(pd_dtype):\n",
      "c:\\Users\\panak\\.conda\\envs\\VSCodeJupyter\\Lib\\site-packages\\sklearn\\utils\\validation.py:605: FutureWarning: is_sparse is deprecated and will be removed in a future version. Check `isinstance(dtype, pd.SparseDtype)` instead.\n",
      "  if is_sparse(pd_dtype):\n",
      "c:\\Users\\panak\\.conda\\envs\\VSCodeJupyter\\Lib\\site-packages\\sklearn\\utils\\validation.py:614: FutureWarning: is_sparse is deprecated and will be removed in a future version. Check `isinstance(dtype, pd.SparseDtype)` instead.\n",
      "  if is_sparse(pd_dtype) or not is_extension_array_dtype(pd_dtype):\n",
      "c:\\Users\\panak\\.conda\\envs\\VSCodeJupyter\\Lib\\site-packages\\sklearn\\utils\\validation.py:605: FutureWarning: is_sparse is deprecated and will be removed in a future version. Check `isinstance(dtype, pd.SparseDtype)` instead.\n",
      "  if is_sparse(pd_dtype):\n",
      "c:\\Users\\panak\\.conda\\envs\\VSCodeJupyter\\Lib\\site-packages\\sklearn\\utils\\validation.py:614: FutureWarning: is_sparse is deprecated and will be removed in a future version. Check `isinstance(dtype, pd.SparseDtype)` instead.\n",
      "  if is_sparse(pd_dtype) or not is_extension_array_dtype(pd_dtype):\n",
      "c:\\Users\\panak\\.conda\\envs\\VSCodeJupyter\\Lib\\site-packages\\sklearn\\utils\\validation.py:767: FutureWarning: is_sparse is deprecated and will be removed in a future version. Check `isinstance(dtype, pd.SparseDtype)` instead.\n",
      "  if not hasattr(array, \"sparse\") and array.dtypes.apply(is_sparse).any():\n",
      "c:\\Users\\panak\\.conda\\envs\\VSCodeJupyter\\Lib\\site-packages\\sklearn\\utils\\validation.py:605: FutureWarning: is_sparse is deprecated and will be removed in a future version. Check `isinstance(dtype, pd.SparseDtype)` instead.\n",
      "  if is_sparse(pd_dtype):\n",
      "c:\\Users\\panak\\.conda\\envs\\VSCodeJupyter\\Lib\\site-packages\\sklearn\\utils\\validation.py:614: FutureWarning: is_sparse is deprecated and will be removed in a future version. Check `isinstance(dtype, pd.SparseDtype)` instead.\n",
      "  if is_sparse(pd_dtype) or not is_extension_array_dtype(pd_dtype):\n",
      "c:\\Users\\panak\\.conda\\envs\\VSCodeJupyter\\Lib\\site-packages\\sklearn\\utils\\validation.py:605: FutureWarning: is_sparse is deprecated and will be removed in a future version. Check `isinstance(dtype, pd.SparseDtype)` instead.\n",
      "  if is_sparse(pd_dtype):\n",
      "c:\\Users\\panak\\.conda\\envs\\VSCodeJupyter\\Lib\\site-packages\\sklearn\\utils\\validation.py:614: FutureWarning: is_sparse is deprecated and will be removed in a future version. Check `isinstance(dtype, pd.SparseDtype)` instead.\n",
      "  if is_sparse(pd_dtype) or not is_extension_array_dtype(pd_dtype):\n",
      "c:\\Users\\panak\\.conda\\envs\\VSCodeJupyter\\Lib\\site-packages\\sklearn\\base.py:439: UserWarning: X does not have valid feature names, but MultinomialNB was fitted with feature names\n",
      "  warnings.warn(\n"
     ]
    }
   ],
   "source": [
    "\n",
    "# Příklad použití\n",
    "temperature_input = \"Warm\"\n",
    "wind_input = \"Strong\"\n",
    "sunshine_input = \"Sunny\"\n",
    "\n",
    "predicted_probability = predict_play_probability(temperature_input, wind_input, sunshine_input)\n",
    "print(f\"Predicted probability of playing outside: {predicted_probability:.2f}\")\n"
   ]
  }
 ],
 "metadata": {
  "kernelspec": {
   "display_name": "VSCodeJupyter",
   "language": "python",
   "name": "python3"
  },
  "language_info": {
   "codemirror_mode": {
    "name": "ipython",
    "version": 3
   },
   "file_extension": ".py",
   "mimetype": "text/x-python",
   "name": "python",
   "nbconvert_exporter": "python",
   "pygments_lexer": "ipython3",
   "version": "3.11.5"
  }
 },
 "nbformat": 4,
 "nbformat_minor": 2
}
